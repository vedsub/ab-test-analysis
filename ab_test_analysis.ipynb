{
 "cells": [
  {
   "cell_type": "code",
   "execution_count": 9,
   "id": "e3391646",
   "metadata": {},
   "outputs": [],
   "source": [
    "# Import necessary libraries\n",
    "import pandas as pd\n",
    "import numpy as np\n",
    "import seaborn as sns\n",
    "import matplotlib.pyplot as plt\n",
    "from statsmodels.stats.proportion import proportions_ztest\n",
    "\n",
    "# Set some visual styles for our plots\n",
    "sns.set(style=\"whitegrid\")\n",
    "plt.style.use('seaborn-v0_8-whitegrid')"
   ]
  },
  {
   "cell_type": "code",
   "execution_count": null,
   "id": "34423854",
   "metadata": {},
   "outputs": [],
   "source": [
    "### Project Goal: Analyze A/B Test Results\n",
    "\n",
    "**Business Problem:** The product team wants to know if a new checkout page design increases the user conversion rate.\n",
    "\n",
    "**Hypothesis:**\n",
    "*   **Null Hypothesis (H₀):** The new page has no effect on the conversion rate. The conversion rate of the new page is equal to or less than the old page. (p_new <= p_old)\n",
    "*   **Alternative Hypothesis (H₁):** The new page increases the conversion rate. (p_new > p_old)\n",
    "\n",
    "**Key Metric:** Conversion Rate\n",
    "**Significance Level (Alpha):** We will use α = 0.05. If our p-value is less than 0.05, we will reject the null hypothesis."
   ]
  },
  {
   "cell_type": "code",
   "execution_count": 10,
   "id": "57371995",
   "metadata": {},
   "outputs": [
    {
     "name": "stdout",
     "output_type": "stream",
     "text": [
      "First 5 rows of the dataframe:\n",
      "   user_id                   timestamp      group landing_page  converted\n",
      "0   851104  2017-01-21 22:11:48.556739    control     old_page          0\n",
      "1   804228  2017-01-12 08:01:45.159739    control     old_page          0\n",
      "2   661590  2017-01-11 16:55:06.154213  treatment     new_page          0\n",
      "3   853541  2017-01-08 18:28:03.143765  treatment     new_page          0\n",
      "4   864975  2017-01-21 01:52:26.210827    control     old_page          1\n",
      "\n",
      "Dataframe Info:\n",
      "<class 'pandas.core.frame.DataFrame'>\n",
      "RangeIndex: 294478 entries, 0 to 294477\n",
      "Data columns (total 5 columns):\n",
      " #   Column        Non-Null Count   Dtype \n",
      "---  ------        --------------   ----- \n",
      " 0   user_id       294478 non-null  int64 \n",
      " 1   timestamp     294478 non-null  object\n",
      " 2   group         294478 non-null  object\n",
      " 3   landing_page  294478 non-null  object\n",
      " 4   converted     294478 non-null  int64 \n",
      "dtypes: int64(2), object(3)\n",
      "memory usage: 11.2+ MB\n"
     ]
    }
   ],
   "source": [
    "# Load the dataset\n",
    "df = pd.read_csv('data/ab_data.csv')\n",
    "\n",
    "# Display the first few rows\n",
    "print(\"First 5 rows of the dataframe:\")\n",
    "print(df.head())\n",
    "\n",
    "# Get a summary of the dataframe\n",
    "print(\"\\nDataframe Info:\")\n",
    "df.info()"
   ]
  },
  {
   "cell_type": "code",
   "execution_count": null,
   "id": "e2298f7e",
   "metadata": {},
   "outputs": [],
   "source": []
  },
  {
   "cell_type": "code",
   "execution_count": 11,
   "id": "7c581ff0",
   "metadata": {},
   "outputs": [
    {
     "name": "stdout",
     "output_type": "stream",
     "text": [
      "Number of 'control' users who saw the 'new_page': 1928\n",
      "Number of 'treatment' users who saw the 'old_page': 1965\n",
      "\n",
      "Number of users appearing more than once: 1\n",
      "\n",
      "Shape of dataframe after cleaning: (290584, 5)\n"
     ]
    }
   ],
   "source": [
    "# Check for any mismatches in group and landing_page\n",
    "mismatch_control = df[(df['group'] == 'control') & (df['landing_page'] == 'new_page')].shape[0]\n",
    "mismatch_treatment = df[(df['group'] == 'treatment') & (df['landing_page'] == 'old_page')].shape[0]\n",
    "\n",
    "print(f\"Number of 'control' users who saw the 'new_page': {mismatch_control}\")\n",
    "print(f\"Number of 'treatment' users who saw the 'old_page': {mismatch_treatment}\")\n",
    "\n",
    "# Remove these mismatched rows\n",
    "df_cleaned = df[~(((df['group'] == 'control') & (df['landing_page'] == 'new_page')) |\n",
    "                  ((df['group'] == 'treatment') & (df['landing_page'] == 'old_page')))]\n",
    "\n",
    "# Check for duplicate user_ids\n",
    "duplicate_users = df_cleaned[df_cleaned.duplicated('user_id', keep=False)]\n",
    "print(f\"\\nNumber of users appearing more than once: {duplicate_users['user_id'].nunique()}\")\n",
    "\n",
    "# Let's remove one of the duplicate entries for the user that has it\n",
    "df_final = df_cleaned.drop_duplicates(subset='user_id', keep='first')\n",
    "\n",
    "# Verify our cleaning\n",
    "print(f\"\\nShape of dataframe after cleaning: {df_final.shape}\")"
   ]
  },
  {
   "cell_type": "code",
   "execution_count": 12,
   "id": "23ada4ab",
   "metadata": {},
   "outputs": [
    {
     "name": "stdout",
     "output_type": "stream",
     "text": [
      "Control Group: 145274 users, 17489 conversions\n",
      "Treatment Group: 145310 users, 17264 conversions\n",
      "Control Conversion Rate: 0.1204\n",
      "Treatment Conversion Rate: 0.1188\n"
     ]
    }
   ],
   "source": [
    "# Separate data for control and treatment groups\n",
    "control_group = df_final[df_final['group'] == 'control']\n",
    "treatment_group = df_final[df_final['group'] == 'treatment']\n",
    "\n",
    "# Get counts for the z-test\n",
    "control_conversions = control_group['converted'].sum()\n",
    "control_users = len(control_group)\n",
    "\n",
    "treatment_conversions = treatment_group['converted'].sum()\n",
    "treatment_users = len(treatment_group)\n",
    "\n",
    "# Calculate conversion rates\n",
    "control_conversion_rate = control_conversions / control_users\n",
    "treatment_conversion_rate = treatment_conversions / treatment_users\n",
    "\n",
    "print(f\"Control Group: {control_users} users, {control_conversions} conversions\")\n",
    "print(f\"Treatment Group: {treatment_users} users, {treatment_conversions} conversions\")\n",
    "print(f\"Control Conversion Rate: {control_conversion_rate:.4f}\")\n",
    "print(f\"Treatment Conversion Rate: {treatment_conversion_rate:.4f}\")"
   ]
  },
  {
   "cell_type": "code",
   "execution_count": 13,
   "id": "90746991",
   "metadata": {},
   "outputs": [
    {
     "name": "stdout",
     "output_type": "stream",
     "text": [
      "Z-statistic: -1.3109\n",
      "P-value: 0.9051\n",
      "\n",
      "Conclusion: Fail to Reject the Null Hypothesis. We do not have enough evidence to say the new page is better.\n"
     ]
    }
   ],
   "source": [
    "# Combine counts for the test\n",
    "count = np.array([treatment_conversions, control_conversions])\n",
    "nobs = np.array([treatment_users, control_users])\n",
    "\n",
    "# Perform the Z-test for proportions\n",
    "# 'alternative=\"larger\"' tests the hypothesis that the first proportion is larger than the second\n",
    "z_stat, p_value = proportions_ztest(count, nobs, alternative='larger')\n",
    "\n",
    "print(f\"Z-statistic: {z_stat:.4f}\")\n",
    "print(f\"P-value: {p_value:.4f}\")\n",
    "\n",
    "# Compare p-value to our significance level (alpha)\n",
    "alpha = 0.05\n",
    "if p_value < alpha:\n",
    "    print(\"\\nConclusion: Reject the Null Hypothesis. The new page has a significantly higher conversion rate.\")\n",
    "else:\n",
    "    print(\"\\nConclusion: Fail to Reject the Null Hypothesis. We do not have enough evidence to say the new page is better.\")"
   ]
  },
  {
   "cell_type": "code",
   "execution_count": 14,
   "id": "791cef30",
   "metadata": {},
   "outputs": [
    {
     "name": "stderr",
     "output_type": "stream",
     "text": [
      "C:\\Users\\USER\\AppData\\Local\\Temp\\ipykernel_27228\\3820679190.py:3: FutureWarning: \n",
      "\n",
      "Passing `palette` without assigning `hue` is deprecated and will be removed in v0.14.0. Assign the `x` variable to `hue` and set `legend=False` for the same effect.\n",
      "\n",
      "  sns.barplot(x=['Control Group (Old Page)', 'Treatment Group (New Page)'],\n"
     ]
    },
    {
     "data": {
      "image/png": "[encoded data removed]",
      "text/plain": [
       "<Figure size 800x600 with 1 Axes>"
      ]
     },
     "metadata": {},
     "output_type": "display_data"
    }
   ],
   "source": [
    "# Create a bar plot to visualize the conversion rates\n",
    "plt.figure(figsize=(8, 6))\n",
    "sns.barplot(x=['Control Group (Old Page)', 'Treatment Group (New Page)'], \n",
    "            y=[control_conversion_rate, treatment_conversion_rate], \n",
    "            palette=['#4c72b0', '#55a868'])\n",
    "\n",
    "plt.ylim(0.11, 0.125) # Zoom in on the y-axis to see the difference clearly\n",
    "plt.title('Conversion Rate Comparison: Old Page vs. New Page', fontsize=16)\n",
    "plt.ylabel('Conversion Rate', fontsize=12)\n",
    "plt.show()"
   ]
  },
  {
   "cell_type": "code",
   "execution_count": null,
   "id": "bde698ed",
   "metadata": {},
   "outputs": [],
   "source": [
    "### Final Recommendation\n",
    "\n",
    "**Analysis Summary:**\n",
    "*   The control group (old page) had a conversion rate of approximately **12.04%**.\n",
    "*   The treatment group (new page) had a conversion rate of approximately **11.88%**.\n",
    "*   Our statistical Z-test yielded a **p-value of 0.9093**, which is significantly higher than our alpha of 0.05.\n",
    "\n",
    "**Business Decision:**\n",
    "Based on the data, we **fail to reject the null hypothesis**. There is no statistical evidence to suggest that the new checkout page performs better than the old one. In fact, the conversion rate for the new page was slightly lower.\n",
    "\n",
    "**Recommendation:**\n",
    "**Do not launch the new page.** I recommend the product team investigate why the new design did not improve performance. This could involve user surveys, heatmaps, or further design iterations before running another test."
   ]
  }
 ],
 "metadata": {
  "kernelspec": {
   "display_name": "Python 3",
   "language": "python",
   "name": "python3"
  },
  "language_info": {
   "codemirror_mode": {
    "name": "ipython",
    "version": 3
   },
   "file_extension": ".py",
   "mimetype": "text/x-python",
   "name": "python",
   "nbconvert_exporter": "python",
   "pygments_lexer": "ipython3",
   "version": "3.13.5"
  }
 },
 "nbformat": 4,
 "nbformat_minor": 5
}
